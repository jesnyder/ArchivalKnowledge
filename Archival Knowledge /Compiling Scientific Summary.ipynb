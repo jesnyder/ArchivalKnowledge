{
 "cells": [
  {
   "cell_type": "code",
   "execution_count": 1,
   "metadata": {
    "collapsed": true
   },
   "outputs": [],
   "source": [
    "from shutil import copyfile\n",
    "import os"
   ]
  },
  {
   "cell_type": "code",
   "execution_count": 2,
   "metadata": {},
   "outputs": [
    {
     "data": {
      "text/plain": [
       "'Science Summary.pdf'"
      ]
     },
     "execution_count": 2,
     "metadata": {},
     "output_type": "execute_result"
    }
   ],
   "source": [
    "folder_name = \"Scientific Papers\"\n",
    "src = folder_name + \"/Text.pdf\"\n",
    "dst = \"Science Summary.pdf\"\n",
    "copyfile(src, dst)"
   ]
  },
  {
   "cell_type": "code",
   "execution_count": 3,
   "metadata": {},
   "outputs": [
    {
     "data": {
      "image/png": "[encoded data removed]",
      "text/plain": [
       "<matplotlib.figure.Figure at 0x10a11b940>"
      ]
     },
     "metadata": {},
     "output_type": "display_data"
    }
   ],
   "source": [
    "import numpy as np\n",
    "import matplotlib.pyplot as plt\n",
    "\n",
    "# Collect reference years from .bib file and plot\n",
    "def collect_reference_years():\n",
    "    refs = folder_name + \"/References.bib\"\n",
    "    years = []; count_list = []\n",
    "    \n",
    "    # Read in text from the bibliography file\n",
    "    with open(refs, \"r\") as myfile: \n",
    "        lines = myfile.readlines()\n",
    "    myfile.close() \n",
    "    \n",
    "    # List the unique years\n",
    "    for i in range(len(lines)):\n",
    "        line = lines[i]\n",
    "        if len(line) > 8 and len(line) < 30:    \n",
    "            for j in range(len(line)-8):\n",
    "                if line[j] == \"y\":\n",
    "                    if line[j+1] == \"e\":\n",
    "                        if line[j+2] == \"a\":\n",
    "                            if line[j+3] == \"r\":\n",
    "                                if line[j+4] == \"=\":\n",
    "                                    years.append(int(line[-7:-3]))            \n",
    "    unique_years = sorted(set(years))\n",
    "    \n",
    "    # Count the number of ooccurances for each unique year\n",
    "    for i in range(len(unique_years)):\n",
    "        year = unique_years[i]; count = 0;\n",
    "        for j in range(len(years)) :\n",
    "            if year == years[j]:\n",
    "                count = count + 1; \n",
    "        count_list.append(count)\n",
    "    \n",
    "    size = []\n",
    "    for i in range(len(count_list)):\n",
    "        size.append(100*count_list[i])\n",
    "        \n",
    "    color_edge = []; color_face = []; c1 = 1; \n",
    "    for i in range(len(size)):\n",
    "        a = [c1,0,c1]; \n",
    "        a[0] = 1-a[0];\n",
    "        c1 = c1-1/len(size)\n",
    "        color_edge.append([0,0,0]); color_face.append(a)\n",
    "    \n",
    "    fig = plt.figure(figsize=(12, 5), dpi=80)\n",
    "    \n",
    "    ax = fig.add_subplot(121)\n",
    "    plt.scatter(unique_years, count_list, s=size, edgecolors=color_edge, facecolors=color_face)\n",
    "    plt.title('Publication Year for %i References' % sum(count_list))\n",
    "    plt.xlabel('Publication Year')\n",
    "    plt.ylabel('No. of References')\n",
    "    \n",
    "    ax = fig.add_subplot(122)\n",
    "    plt.scatter(unique_years, count_list, s=size, edgecolors=color_edge, facecolors=color_face)\n",
    "    plt.title('Publication Year for %i References' % sum(count_list))\n",
    "    plt.xlabel('Publication Year')\n",
    "    plt.ylabel('No. of References')\n",
    "    x_min = 2009; x_max = x_min+10; plt.xlim(x_min,x_max); plt.xticks(np.arange(x_min, x_max, 1))\n",
    "    fig.savefig('Figures/references_by_publication_year.jpg')\n",
    "    \n",
    "    plt.show()\n",
    "\n",
    "\n",
    "collect_reference_years()"
   ]
  },
  {
   "cell_type": "code",
   "execution_count": 4,
   "metadata": {},
   "outputs": [],
   "source": [
    "# Adding a reference to the Refeences.bib\n",
    "import csv\n",
    "\n",
    "def add_reference(text):\n",
    "    refs = \"Scientific Papers/References.bib\"\n",
    "    \n",
    "    with open(refs, \"a\") as myfile: \n",
    "        myfile.write(\"\\n\")\n",
    "        for i in range(len(text)):  \n",
    "            if i == 0 or i == len(text)-1:\n",
    "                space = \"\";\n",
    "            else: \n",
    "                space = \"   \"       \n",
    "            myfile.write(space + text[i] + \"\\n\")\n",
    "            \n",
    "        myfile.write(\"\\n\")\n",
    "    myfile.close() \n",
    "            \n",
    "    return(\"Reference Added.\")\n",
    "     "
   ]
  },
  {
   "cell_type": "code",
   "execution_count": 5,
   "metadata": {},
   "outputs": [],
   "source": [
    "latham2017exploring = [\"@article{latham2017exploring,\",\n",
    "     \"    title={EXPLORING CUMULATIVE DISADVANTAGE, TELOMERE LENGTH, AND BREAST CANCER AMONG BLACK AND WHITE WOMEN},\"\n",
    "    \"author={Latham-Mintus, K and Weathers, T and Irby-Shasanmi, A and Bigatti, SM and Storniolo, A and Robison, L and Telomere Laboratory, I},\",\n",
    "      \"journal={Innovation in Aging},\",\n",
    "  \"volume={1},\",\n",
    "  \"number={suppl\\_1},\",\n",
    "  \"pages={1338--1338},\",\n",
    "  \"year={2017},\",\n",
    "  \"publisher={Oxford University Press US}\",\n",
    "\"}\"]\n",
    "\n",
    "thorvaldsdottir2017telomere = [\"@article{thorvaldsdottir2017telomere,\",\n",
    "  \"title={Telomere length is predictive of breast cancer risk in BRCA2 mutation carriers},\",\n",
    "  \"author={Thorvaldsdottir, Birna and Aradottir, Margret and Stefansson, Olafur A and Bodvarsdottir, Sigridur K and Eyfj{\\\"o}rd, Jorunn E},\",\n",
    "  \"journal={Cancer Epidemiology and Prevention Biomarkers},\",\n",
    "  \"pages={cebp--0946},\",\n",
    "  \"year={2017},\",\n",
    "    \"publisher={AACR}\",                                                                                                                     \n",
    "    \"}\"]\n",
    "\n",
    "rasgon2017insulin = [\"@article{rasgon2017insulin,\",\n",
    "  \"title={Insulin resistance and telomere length in treatment of depressive disorders},\",\n",
    "  \"author={Rasgon, N and McEwen, B and Lin, KW},\",\n",
    "  \"journal={European Psychiatry},\",\n",
    "  \"volume={41},\",\n",
    "  \"pages={S61--S62},\",\n",
    "  \"year={2017},\",\n",
    "  \"publisher={Elsevier}\",\n",
    "\"}\"]\n"
   ]
  },
  {
   "cell_type": "code",
   "execution_count": 6,
   "metadata": {
    "collapsed": true
   },
   "outputs": [],
   "source": [
    "#print(add_reference(rasgon2017insulin))"
   ]
  },
  {
   "cell_type": "code",
   "execution_count": 7,
   "metadata": {},
   "outputs": [
    {
     "data": {
      "text/plain": [
       "0"
      ]
     },
     "execution_count": 7,
     "metadata": {},
     "output_type": "execute_result"
    }
   ],
   "source": [
    "os.chdir(folder_name)\n",
    "os.system(\"latexmk -pdf Text.tex\")\n",
    "os.system(\"latexmk -pdf Text.tex\")\n",
    "os.system(\"latexmk -pdf -bibtex Text.tex\")\n",
    "os.system(\"latexmk -pdf Text.tex\")\n",
    "os.system(\"latexmk -pdf Text.tex\")\n",
    "os.system(\"latexmk -pdf -bibtex Text.tex\")"
   ]
  }
 ],
 "metadata": {
  "kernelspec": {
   "display_name": "Python 3",
   "language": "python",
   "name": "python3"
  },
  "language_info": {
   "codemirror_mode": {
    "name": "ipython",
    "version": 3
   },
   "file_extension": ".py",
   "mimetype": "text/x-python",
   "name": "python",
   "nbconvert_exporter": "python",
   "pygments_lexer": "ipython3",
   "version": "3.6.3"
  }
 },
 "nbformat": 4,
 "nbformat_minor": 2
}
